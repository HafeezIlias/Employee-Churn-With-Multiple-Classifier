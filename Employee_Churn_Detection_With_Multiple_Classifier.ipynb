{
  "cells": [
    {
      "cell_type": "code",
      "execution_count": 1,
      "metadata": {
        "id": "9BuSlpuaSZU3"
      },
      "outputs": [],
      "source": [
        "import pandas as pd\n",
        "import numpy as np\n",
        "from sklearn.model_selection import train_test_split, GridSearchCV\n",
        "from sklearn.metrics import accuracy_score, classification_report, confusion_matrix\n",
        "from sklearn.ensemble import RandomForestClassifier, BaggingClassifier, VotingClassifier\n",
        "from sklearn.neighbors import KNeighborsClassifier\n",
        "from sklearn.svm import SVC\n",
        "from sklearn.linear_model import LogisticRegression\n",
        "from sklearn.naive_bayes import GaussianNB\n",
        "from sklearn.neural_network import MLPClassifier\n",
        "from sklearn.utils import resample\n",
        "from sklearn.preprocessing import OneHotEncoder, StandardScaler\n",
        "from sklearn.compose import ColumnTransformer\n",
        "from sklearn.pipeline import Pipeline\n",
        "from sklearn import preprocessing\n",
        "from sklearn.tree import DecisionTreeClassifier\n",
        "from sklearn.naive_bayes import MultinomialNB"
      ]
    },
    {
      "cell_type": "code",
      "execution_count": 2,
      "metadata": {
        "colab": {
          "base_uri": "https://localhost:8080/"
        },
        "id": "GCAOd1Mo5tzH",
        "outputId": "ba357a6d-d2b1-42b2-fcda-adad1414f5fb"
      },
      "outputs": [
        {
          "name": "stdout",
          "output_type": "stream",
          "text": [
            "Dataset Loaded Successfully\n"
          ]
        }
      ],
      "source": [
        "# Load the dataset\n",
        "data = pd.read_csv('HR_comma_sep.csv')\n",
        "print(\"Dataset Loaded Successfully\")"
      ]
    },
    {
      "cell_type": "code",
      "execution_count": 3,
      "metadata": {
        "colab": {
          "base_uri": "https://localhost:8080/"
        },
        "id": "jRTcsdr5SvHC",
        "outputId": "ec0b0947-bec2-41df-ec48-c8e426e34f93"
      },
      "outputs": [
        {
          "name": "stdout",
          "output_type": "stream",
          "text": [
            "\n",
            "Missing Values per column:\n",
            " Series([], dtype: int64)\n",
            "\n",
            "Missing values in numeric columns handled with median replacement.\n",
            "\n",
            "Missing values in categorical columns handled with mode replacement.\n"
          ]
        },
        {
          "name": "stderr",
          "output_type": "stream",
          "text": [
            "C:\\Users\\penda\\AppData\\Local\\Temp\\ipykernel_8516\\3511632833.py:23: FutureWarning: A value is trying to be set on a copy of a DataFrame or Series through chained assignment using an inplace method.\n",
            "The behavior will change in pandas 3.0. This inplace method will never work because the intermediate object on which we are setting values always behaves as a copy.\n",
            "\n",
            "For example, when doing 'df[col].method(value, inplace=True)', try using 'df.method({col: value}, inplace=True)' or df[col] = df[col].method(value) instead, to perform the operation inplace on the original object.\n",
            "\n",
            "\n",
            "  data[col].fillna(mode_value, inplace=True)\n"
          ]
        }
      ],
      "source": [
        "# Check for missing values and print columns with missing data\n",
        "missing_values = data.isnull().sum()\n",
        "print(\"\\nMissing Values per column:\\n\", missing_values[missing_values > 0])\n",
        "\n",
        "# Handle missing values by filling with median for numeric columns only\n",
        "# Select only numeric columns\n",
        "numeric_data = data.select_dtypes(include=np.number)\n",
        "\n",
        "# Calculate median for numeric columns\n",
        "numeric_medians = numeric_data.median()\n",
        "\n",
        "# Fill missing values in numeric columns with their respective medians\n",
        "data[numeric_data.columns] = data[numeric_data.columns].fillna(numeric_medians)\n",
        "\n",
        "print(\"\\nMissing values in numeric columns handled with median replacement.\")\n",
        "\n",
        "# For categorical columns, you might want to fill with the most frequent value (mode)\n",
        "# or a separate strategy\n",
        "categorical_columns = data.select_dtypes(exclude=np.number).columns\n",
        "\n",
        "for col in categorical_columns:\n",
        "    mode_value = data[col].mode()[0]  # Get the most frequent value\n",
        "    data[col].fillna(mode_value, inplace=True)\n",
        "\n",
        "print(\"\\nMissing values in categorical columns handled with mode replacement.\")"
      ]
    },
    {
      "cell_type": "code",
      "execution_count": 4,
      "metadata": {
        "colab": {
          "base_uri": "https://localhost:8080/"
        },
        "id": "CyRsNemlIixR",
        "outputId": "6f9e668f-01a3-4960-a473-178d3469978a"
      },
      "outputs": [
        {
          "name": "stdout",
          "output_type": "stream",
          "text": [
            "   satisfaction_level  last_evaluation  number_project  average_montly_hours  \\\n",
            "0                0.38             0.53               2                   157   \n",
            "1                0.80             0.86               5                   262   \n",
            "2                0.11             0.88               7                   272   \n",
            "3                0.72             0.87               5                   223   \n",
            "4                0.37             0.52               2                   159   \n",
            "\n",
            "   time_spend_company  Work_accident  left  promotion_last_5years Departments  \\\n",
            "0                   3              0     1                      0       sales   \n",
            "1                   6              0     1                      0       sales   \n",
            "2                   4              0     1                      0       sales   \n",
            "3                   5              0     1                      0       sales   \n",
            "4                   3              0     1                      0       sales   \n",
            "\n",
            "   salary  \n",
            "0     low  \n",
            "1  medium  \n",
            "2  medium  \n",
            "3     low  \n",
            "4     low  \n",
            "<class 'pandas.core.frame.DataFrame'>\n",
            "RangeIndex: 14999 entries, 0 to 14998\n",
            "Data columns (total 10 columns):\n",
            " #   Column                 Non-Null Count  Dtype  \n",
            "---  ------                 --------------  -----  \n",
            " 0   satisfaction_level     14999 non-null  float64\n",
            " 1   last_evaluation        14999 non-null  float64\n",
            " 2   number_project         14999 non-null  int64  \n",
            " 3   average_montly_hours   14999 non-null  int64  \n",
            " 4   time_spend_company     14999 non-null  int64  \n",
            " 5   Work_accident          14999 non-null  int64  \n",
            " 6   left                   14999 non-null  int64  \n",
            " 7   promotion_last_5years  14999 non-null  int64  \n",
            " 8   Departments            14999 non-null  object \n",
            " 9   salary                 14999 non-null  object \n",
            "dtypes: float64(2), int64(6), object(2)\n",
            "memory usage: 1.1+ MB\n",
            "None\n",
            "        satisfaction_level  last_evaluation  number_project  \\\n",
            "count         14999.000000     14999.000000    14999.000000   \n",
            "unique                 NaN              NaN             NaN   \n",
            "top                    NaN              NaN             NaN   \n",
            "freq                   NaN              NaN             NaN   \n",
            "mean              0.612834         0.716102        3.803054   \n",
            "std               0.248631         0.171169        1.232592   \n",
            "min               0.090000         0.360000        2.000000   \n",
            "25%               0.440000         0.560000        3.000000   \n",
            "50%               0.640000         0.720000        4.000000   \n",
            "75%               0.820000         0.870000        5.000000   \n",
            "max               1.000000         1.000000        7.000000   \n",
            "\n",
            "        average_montly_hours  time_spend_company  Work_accident          left  \\\n",
            "count           14999.000000        14999.000000   14999.000000  14999.000000   \n",
            "unique                   NaN                 NaN            NaN           NaN   \n",
            "top                      NaN                 NaN            NaN           NaN   \n",
            "freq                     NaN                 NaN            NaN           NaN   \n",
            "mean              201.050337            3.498233       0.144610      0.238083   \n",
            "std                49.943099            1.460136       0.351719      0.425924   \n",
            "min                96.000000            2.000000       0.000000      0.000000   \n",
            "25%               156.000000            3.000000       0.000000      0.000000   \n",
            "50%               200.000000            3.000000       0.000000      0.000000   \n",
            "75%               245.000000            4.000000       0.000000      0.000000   \n",
            "max               310.000000           10.000000       1.000000      1.000000   \n",
            "\n",
            "        promotion_last_5years Departments salary  \n",
            "count            14999.000000       14999  14999  \n",
            "unique                    NaN          10      3  \n",
            "top                       NaN       sales    low  \n",
            "freq                      NaN        4140   7316  \n",
            "mean                 0.021268         NaN    NaN  \n",
            "std                  0.144281         NaN    NaN  \n",
            "min                  0.000000         NaN    NaN  \n",
            "25%                  0.000000         NaN    NaN  \n",
            "50%                  0.000000         NaN    NaN  \n",
            "75%                  0.000000         NaN    NaN  \n",
            "max                  1.000000         NaN    NaN  \n"
          ]
        }
      ],
      "source": [
        "# This part cover the visualization parts of the dataset\n",
        "# data description\n",
        "print(data.head())\n",
        "print(data.info())\n",
        "print(data.describe(include ='all'))"
      ]
    },
    {
      "cell_type": "code",
      "execution_count": 5,
      "metadata": {
        "id": "oqC9wxUDSwAF"
      },
      "outputs": [],
      "source": [
        "#  Import LabelEncoder & creating labelEncoder\n",
        "le = preprocessing.LabelEncoder()\n",
        "\n",
        "# Converting string labels into numbers (ordinal scale).\n",
        "# - original values in string\n",
        "data['salary']=le.fit_transform(data['salary'])\n",
        "data['Departments']=le.fit_transform(data['Departments'])"
      ]
    },
    {
      "cell_type": "code",
      "execution_count": 6,
      "metadata": {
        "id": "LZ8mLd6FIt_D"
      },
      "outputs": [],
      "source": [
        "from sklearn.metrics import accuracy_score, classification_report\n",
        "import warnings\n",
        "# Spliting data into Feature (X) and target (T)\n",
        "# X represent features or variables\n",
        "X=data[['satisfaction_level', 'last_evaluation', 'number_project', 'average_montly_hours', 'time_spend_company',\n",
        "     'Work_accident','promotion_last_5years', 'Departments', 'salary']]\n",
        "#Y represents target\n",
        "y=data['left']\n",
        "# Split data into Features (X) and Target (y)\n",
        "X = data[['satisfaction_level', 'last_evaluation', 'number_project', 'average_montly_hours',\n",
        "          'time_spend_company', 'Work_accident', 'promotion_last_5years']]\n",
        "y = data['left']"
      ]
    },
    {
      "cell_type": "code",
      "execution_count": 7,
      "metadata": {
        "colab": {
          "base_uri": "https://localhost:8080/"
        },
        "id": "_5ffH73n560H",
        "outputId": "862e4385-3829-41cf-cb7a-15fcd613bf07"
      },
      "outputs": [
        {
          "name": "stdout",
          "output_type": "stream",
          "text": [
            "Train and Test Sets Split:\n",
            "Train set: (11999, 7)\n",
            "Test set: (3000, 7)\n"
          ]
        }
      ],
      "source": [
        "# Splitting the data (80:20 ratio)\n",
        "X_train, X_test, y_train, y_test = train_test_split(X, y, test_size=0.2, random_state=42)\n",
        "print(\"Train and Test Sets Split:\")\n",
        "print(\"Train set:\", X_train.shape)\n",
        "print(\"Test set:\", X_test.shape)"
      ]
    },
    {
      "cell_type": "code",
      "execution_count": null,
      "metadata": {
        "colab": {
          "background_save": true,
          "base_uri": "https://localhost:8080/"
        },
        "id": "AowYbodp5-hW",
        "outputId": "f95ffe78-0797-499d-999e-d2624c59303b"
      },
      "outputs": [
        {
          "name": "stdout",
          "output_type": "stream",
          "text": [
            "KNN Best Parameters: {'n_neighbors': 7, 'weights': 'distance'}\n",
            "Random Forest Best Parameters: {'criterion': 'gini', 'max_depth': None, 'n_estimators': 100}\n"
          ]
        }
      ],
      "source": [
        "\n",
        "# Define hyperparameter grids for all classifiers\n",
        "# K-Nearest Neighbors\n",
        "knn_param_grid = {\n",
        "    'n_neighbors': [3, 5, 7],\n",
        "    'weights': ['uniform', 'distance']\n",
        "}\n",
        "knn_grid = GridSearchCV(KNeighborsClassifier(), knn_param_grid, cv=3, scoring='accuracy')\n",
        "knn_grid.fit(X_train, y_train)\n",
        "knn_best = knn_grid.best_estimator_\n",
        "print(f\"KNN Best Parameters: {knn_grid.best_params_}\")\n",
        "\n",
        "# Random Forest\n",
        "rfc_param_grid = {\n",
        "    'n_estimators': [10, 50, 100],\n",
        "    'criterion': ['gini', 'entropy'],\n",
        "    'max_depth': [None, 10, 20]\n",
        "}\n",
        "rfc_grid = GridSearchCV(RandomForestClassifier(random_state=7), rfc_param_grid, cv=3, scoring='accuracy')\n",
        "rfc_grid.fit(X_train, y_train)\n",
        "rfc_best = rfc_grid.best_estimator_\n",
        "print(f\"Random Forest Best Parameters: {rfc_grid.best_params_}\")\n",
        "\n",
        "# Support Vector Machine\n",
        "svc_param_grid = {\n",
        "    'C': [0.1, 1, 10],\n",
        "    'kernel': ['linear', 'rbf']\n",
        "}\n",
        "svc_grid = GridSearchCV(SVC(probability=True), svc_param_grid, cv=3, scoring='accuracy')\n",
        "svc_grid.fit(X_train, y_train)\n",
        "svc_best = svc_grid.best_estimator_\n",
        "print(f\"SVM Best Parameters: {svc_grid.best_params_}\")\n",
        "\n",
        "# Logistic Regression\n",
        "lr_param_grid = {\n",
        "    'C': [0.1, 1, 10],\n",
        "    'solver': ['lbfgs', 'liblinear']\n",
        "}\n",
        "lr_grid = GridSearchCV(LogisticRegression(max_iter=1000), lr_param_grid, cv=3, scoring='accuracy')\n",
        "lr_grid.fit(X_train, y_train)\n",
        "lr_best = lr_grid.best_estimator_\n",
        "print(f\"Logistic Regression Best Parameters: {lr_grid.best_params_}\")\n",
        "\n",
        "# Decision Tree\n",
        "dt_param_grid = {\n",
        "    'criterion': ['gini', 'entropy'],\n",
        "    'max_depth': [None, 10, 20],\n",
        "    'min_samples_split': [2, 5, 10]\n",
        "}\n",
        "dt_grid = GridSearchCV(DecisionTreeClassifier(random_state=7), dt_param_grid, cv=3, scoring='accuracy')\n",
        "dt_grid.fit(X_train, y_train)\n",
        "dt_best = dt_grid.best_estimator_\n",
        "print(f\"Decision Tree Best Parameters: {dt_grid.best_params_}\")\n",
        "\n",
        "# Naive Bayes\n",
        "nb_param_grid = {\n",
        "    'alpha': [0.1, 1.0, 10.0]\n",
        "}\n",
        "nb_grid = GridSearchCV(MultinomialNB(), nb_param_grid, cv=3, scoring='accuracy')\n",
        "nb_grid.fit(X_train, y_train)\n",
        "nb_best = nb_grid.best_estimator_\n",
        "print(f\"Naive Bayes Best Parameters: {nb_grid.best_params_}\")\n",
        "\n",
        "# MLP Neural Network\n",
        "mlp_param_grid = {\n",
        "    'hidden_layer_sizes': [(6,), (50,), (100,), (100, 50)],\n",
        "    'activation': ['relu', 'tanh'],\n",
        "    'solver': ['adam'],\n",
        "    'alpha': [1e-05, 1e-04],\n",
        "    'max_iter': [1000]\n",
        "}\n",
        "mlp_grid = GridSearchCV(MLPClassifier(random_state=1), mlp_param_grid, cv=3, scoring='accuracy')\n",
        "mlp_grid.fit(X_train, y_train)\n",
        "mlp_best = mlp_grid.best_estimator_\n",
        "print(f\"MLP Best Parameters: {mlp_grid.best_params_}\")\n",
        "\n",
        "# Combine All Best Models\n",
        "classifiers = {\n",
        "    \"K-Nearest Neighbors\": knn_best,\n",
        "    \"Random Forest\": rfc_best,\n",
        "    \"Support Vector Machine\": svc_best,\n",
        "    \"Logistic Regression\": lr_best,\n",
        "    \"Decision Tree\": dt_best,\n",
        "    \"Naive Bayes\": nb_best,\n",
        "    \"MLP Neural Network\": mlp_best\n",
        "}"
      ]
    },
    {
      "cell_type": "code",
      "execution_count": null,
      "metadata": {
        "id": "KvVrxwT-cPvP"
      },
      "outputs": [],
      "source": [
        "# Apply Bootstrapping to Each Model\n",
        "bootstrapped_classifiers = {}\n",
        "for name, clf in classifiers.items():\n",
        "    bootstrapped_accuracies = []\n",
        "    bootstrapped_classifiers_list = []\n",
        "    for _ in range(10):\n",
        "        X_resampled, y_resampled = resample(X_train, y_train, random_state=_)\n",
        "        clf.fit(X_resampled, y_resampled)\n",
        "        y_pred = clf.predict(X_test)\n",
        "        acc = accuracy_score(y_test, y_pred)\n",
        "        bootstrapped_classifiers_list.append(clf)\n",
        "        bootstrapped_accuracies.append(acc)\n",
        "    best_index = bootstrapped_accuracies.index(max(bootstrapped_accuracies))\n",
        "    bootstrapped_classifiers[name] = bootstrapped_classifiers_list[best_index]\n",
        "    print(f\"{name} Bootstrapping Best Accuracy: {max(bootstrapped_accuracies) * 100:.2f}%\")\n"
      ]
    },
    {
      "cell_type": "code",
      "execution_count": null,
      "metadata": {
        "id": "jmXSCQzK6PUC"
      },
      "outputs": [],
      "source": [
        "# Voting Classifier Using Bootstrapped Models\n",
        "voting_clf = VotingClassifier(\n",
        "    estimators=[(name, clf) for name, clf in bootstrapped_classifiers.items()], voting='hard'\n",
        ")\n",
        "voting_clf.fit(X_train, y_train)\n"
      ]
    },
    {
      "cell_type": "code",
      "execution_count": null,
      "metadata": {
        "id": "5UQg3fcIHj-r"
      },
      "outputs": [],
      "source": [
        "# Evaluate Voting Classifier\n",
        "y_pred_voting = voting_clf.predict(X_test)\n",
        "voting_acc = accuracy_score(y_test, y_pred_voting)\n",
        "print(f\"\\nVoting Classifier Results:\")\n",
        "print(f\"Accuracy: {voting_acc * 100:.2f}%\")\n",
        "print(\"Classification Report:\")\n",
        "print(classification_report(y_test, y_pred_voting))\n",
        "print(\"Confusion Matrix:\")\n",
        "print(confusion_matrix(y_test, y_pred_voting))\n",
        "\n",
        "# Save the Final Voting Model\n",
        "from joblib import dump\n",
        "dump(voting_clf, \"employee_churn_voting_model.joblib\")\n",
        "print(\"Voting Classifier Model Saved Successfully\")"
      ]
    }
  ],
  "metadata": {
    "colab": {
      "provenance": []
    },
    "kernelspec": {
      "display_name": "Python 3",
      "name": "python3"
    },
    "language_info": {
      "codemirror_mode": {
        "name": "ipython",
        "version": 3
      },
      "file_extension": ".py",
      "mimetype": "text/x-python",
      "name": "python",
      "nbconvert_exporter": "python",
      "pygments_lexer": "ipython3",
      "version": "3.12.8"
    }
  },
  "nbformat": 4,
  "nbformat_minor": 0
}
